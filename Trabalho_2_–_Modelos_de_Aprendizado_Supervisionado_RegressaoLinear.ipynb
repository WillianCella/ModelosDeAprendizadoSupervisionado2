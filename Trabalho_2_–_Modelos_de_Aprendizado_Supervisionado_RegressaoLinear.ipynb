{
  "nbformat": 4,
  "nbformat_minor": 0,
  "metadata": {
    "colab": {
      "provenance": [],
      "authorship_tag": "ABX9TyNs8nGuAewrrHtOASCHWpnr",
      "include_colab_link": true
    },
    "kernelspec": {
      "name": "python3",
      "display_name": "Python 3"
    },
    "language_info": {
      "name": "python"
    }
  },
  "cells": [
    {
      "cell_type": "markdown",
      "metadata": {
        "id": "view-in-github",
        "colab_type": "text"
      },
      "source": [
        "<a href=\"https://colab.research.google.com/github/WillianCella/ModelosDeAprendizadoSupervisionado2/blob/main/Trabalho_2_%E2%80%93_Modelos_de_Aprendizado_Supervisionado_RegressaoLinear.ipynb\" target=\"_parent\"><img src=\"https://colab.research.google.com/assets/colab-badge.svg\" alt=\"Open In Colab\"/></a>"
      ]
    },
    {
      "cell_type": "code",
      "execution_count": 66,
      "metadata": {
        "id": "z1NbgN63R-HX"
      },
      "outputs": [],
      "source": [
        "import pandas as pd\n",
        "import numpy as np\n",
        "import seaborn as sn\n",
        "import matplotlib.pyplot as plt\n",
        "from sklearn.linear_model import LinearRegression"
      ]
    },
    {
      "cell_type": "code",
      "source": [
        "from google.colab import drive\n",
        "drive.mount('/content/drive', force_remount=True)"
      ],
      "metadata": {
        "colab": {
          "base_uri": "https://localhost:8080/"
        },
        "id": "79_K6d8CvHM9",
        "outputId": "4e44c97a-9438-41b8-ef9b-9c575ebe9ad9"
      },
      "execution_count": 67,
      "outputs": [
        {
          "output_type": "stream",
          "name": "stdout",
          "text": [
            "Mounted at /content/drive\n"
          ]
        }
      ]
    },
    {
      "cell_type": "code",
      "source": [
        "path = \"/content/drive/MyDrive/Shared/auto-mpg.csv\"\n",
        "base = pd.read_csv(path, sep = ';')\n",
        "print(base)\n",
        "print(base.describe())"
      ],
      "metadata": {
        "colab": {
          "base_uri": "https://localhost:8080/"
        },
        "id": "fc9vMHqbvC95",
        "outputId": "ad1f8b03-b43c-41da-8cb2-d67617279f15"
      },
      "execution_count": 68,
      "outputs": [
        {
          "output_type": "stream",
          "name": "stdout",
          "text": [
            "     mpg  cylinders  displacement  horsepower  weight  acceleration  \\\n",
            "0     18          8         307.0         130    3504          12.0   \n",
            "1     15          8         350.0         165    3693          11.5   \n",
            "2     18          8         318.0         150    3436          11.0   \n",
            "3     16          8         304.0         150    3433          12.0   \n",
            "4     17          8         302.0         140    3449          10.5   \n",
            "..   ...        ...           ...         ...     ...           ...   \n",
            "403   21          6         200.0         129    2875          17.0   \n",
            "404   41          4          85.0          53    1835          17.3   \n",
            "405   23          4         140.0         119    2905          14.3   \n",
            "406   34          4         100.0          81    2320          15.8   \n",
            "407   23          4         151.0          82    3035          20.5   \n",
            "\n",
            "     model_year  origin  car_brand            model  \n",
            "0            70       1  chevrolet  chevelle malibu  \n",
            "1            70       1      buick      skylark 320  \n",
            "2            70       1   plymouth        satellite  \n",
            "3            70       1        amc        rebel sst  \n",
            "4            70       1       ford           torino  \n",
            "..          ...     ...        ...              ...  \n",
            "403          74       1       ford         maverick  \n",
            "404          80       2    renault     lecar deluxe  \n",
            "405          80       1       ford    mustang cobra  \n",
            "406          81       2    renault              18i  \n",
            "407          82       1        amc       concord dl  \n",
            "\n",
            "[408 rows x 10 columns]\n",
            "             mpg   cylinders  displacement  horsepower       weight  \\\n",
            "count  408.00000  408.000000    408.000000  408.000000   408.000000   \n",
            "mean    23.32598    5.468137    194.283088  104.649510  2975.139706   \n",
            "std      7.86927    1.711061    104.903976   38.724151   847.119184   \n",
            "min     10.00000    3.000000     68.000000   46.000000  1613.000000   \n",
            "25%     17.00000    4.000000    103.250000   75.000000  2222.250000   \n",
            "50%     23.00000    4.000000    148.500000   95.000000  2811.000000   \n",
            "75%     29.00000    8.000000    302.000000  129.000000  3614.750000   \n",
            "max     44.00000    8.000000    455.000000  230.000000  5140.000000   \n",
            "\n",
            "       acceleration  model_year      origin  \n",
            "count    408.000000  408.000000  408.000000  \n",
            "mean      15.557108   75.946078    1.571078  \n",
            "std        2.848725    3.756996    0.796088  \n",
            "min        8.000000   70.000000    1.000000  \n",
            "25%       13.700000   73.000000    1.000000  \n",
            "50%       15.500000   76.000000    1.000000  \n",
            "75%       17.225000   79.000000    2.000000  \n",
            "max       24.800000   82.000000    3.000000  \n"
          ]
        }
      ]
    },
    {
      "cell_type": "code",
      "source": [
        "#separando os atributos\n",
        "mpg = base.iloc[:,0].values # Milhas por galão\n",
        "cilindros = base.iloc[:,1].values\n",
        "deslocamento = base.iloc[:,2].values\n",
        "hp = base.iloc[:,3].values\n",
        "peso = base.iloc[:,4].values\n",
        "aceleracao = base.iloc[:,5].values\n",
        "anoModelo = base.iloc[:,6].values\n",
        "origem = base.iloc[:,7].values\n",
        "marca = base.iloc[:,8].values\n",
        "modelo = base.iloc[:,9].values\n",
        "\n",
        "print(\"HP: \", hp)"
      ],
      "metadata": {
        "colab": {
          "base_uri": "https://localhost:8080/"
        },
        "id": "slKwshzTwozg",
        "outputId": "84d30a89-8bf9-45b8-8250-9dfbbae95fa3"
      },
      "execution_count": 69,
      "outputs": [
        {
          "output_type": "stream",
          "name": "stdout",
          "text": [
            "HP:  [130 165 150 150 140 198 220 215 225 190 170 160 150 225  95  95  97  85\n",
            "  88  46  87  90  95 113  90 215 200 210 193  88  90  95 100 105 100  88\n",
            " 100 165 175 153 150 180 170 175 110  72 100  88  86  90  70  76  65  69\n",
            "  60  70  95  80  54  90  86 165 175 150 153 150 208 155 160 190  97 150\n",
            " 130 140 150 112  76  87  69  86  92  97  80  88 175 150 145 137 150 198\n",
            " 150 158 150 215 225 175 105 100 100  88  95  46 150 167 170 180 100  88\n",
            "  72  94  90  85 107  90 145 230  49  75  91 112 150 110 122 180  95 100\n",
            " 100  67  80  65  75 100 110 105 140 150 150 140 150  83  67  78  52  61\n",
            "  75  75  75  97  93  67  95 105  72  72 170 145 150 148 110 105 110  95\n",
            " 110 110 129  75  83 100  78  96  71  97  97  70  90  95  88  98 115  53\n",
            "  86  81  92  79  83 140 150 120 152 100 105  81  90  52  60  70  53 100\n",
            "  78 110  95  71  70  75  72 102 150  88 108 120 180 145 130 150  68  80\n",
            "  58  96  70 145 110 145 130 110 105 100  98 180 170 190 149  78  88  75\n",
            "  89  63  83  67  78  97 110 110  48  66  52  70  60 110 140 139 105  95\n",
            "  85  88 100  90 105  85 110 120 145 165 139 140  68  95  97  75  95 105\n",
            "  85  97 103 125 115 133  71  68 115  85  88  90 110 130 129 138 135 155\n",
            " 142 125 150  71  65  80  80  77 125  71  90  70  70  65  69  90 115 115\n",
            "  90  76  60  70  65  90  88  90  90  78  90  75  92  75  65 105  65  48\n",
            "  48  48  67  67  67  67  62 132 100  88  72  84  84  92 110  84  58  64\n",
            "  60  67  65  62  68  63  65  65  74  75  75 100  74  80  76 116 120 110\n",
            " 105  88  85  88  88  88  85  84  90  92  74  68  68  63  70  88  75  70\n",
            "  67  67  67 110  85  92 112  96  84  90  86  52  52  84  79  82 115 165\n",
            " 153 175 175 140  48 110 100 129  53 119  81  82]\n"
          ]
        }
      ]
    },
    {
      "cell_type": "code",
      "source": [
        "#analisando o relacionamento entre as variáveis\n",
        "plt.figure(figsize=(10, 10))\n",
        "sn.set(font_scale=1)\n",
        "sn.heatmap(base.corr(),annot=True,vmin=-1, vmax=1,linewidth=.5,fmt=\".2f\");\n",
        "plt.show()"
      ],
      "metadata": {
        "colab": {
          "base_uri": "https://localhost:8080/",
          "height": 663
        },
        "id": "rD92kuAKwO56",
        "outputId": "e0d80718-e997-4944-fa2b-6d9cec06f99b"
      },
      "execution_count": 70,
      "outputs": [
        {
          "output_type": "display_data",
          "data": {
            "text/plain": [
              "<Figure size 720x720 with 2 Axes>"
            ],
            "image/png": "[encoded data removed]"
          },
          "metadata": {}
        }
      ]
    },
    {
      "cell_type": "code",
      "source": [
        "#instanciando e treinando os modelos lineares\n",
        "hp = hp.reshape(-1,1)\n",
        "modelo1 = LinearRegression()\n",
        "modelo1.fit(hp,mpg)\n",
        "\n",
        "print (\"HP\")\n",
        "print (\"b em X: \", modelo1.intercept_) #obtendo o termo independente do modelo\n",
        "print (\"a em X: \", modelo1.coef_) #obtendo a inclinação do modelo\n",
        "print (\"Coef.Det.: \",modelo1.score(hp,mpg)) #obtendo o coeficiente de determinação do modelo\n",
        "\n",
        "plt.scatter(hp,mpg)\n",
        "plt.xlabel(\"Horse power\") #variável explicativa\n",
        "plt.ylabel(\"MPG\") #variável dependente\n",
        "plt.plot(hp, modelo1.predict(hp),color='red') #plotando a reta do modelo\n",
        "plt.show()\n",
        "\n",
        "\n",
        "cilindros = cilindros.reshape(-1,1)\n",
        "modelo2 = LinearRegression()\n",
        "modelo2.fit(cilindros,mpg)\n",
        "\n",
        "print (\"Cilindros\")\n",
        "print (\"b em X: \", modelo2.intercept_) #obtendo o termo independente do modelo\n",
        "print (\"a em X: \", modelo2.coef_) #obtendo a inclinação do modelo\n",
        "print (\"Coef. Det.: \",modelo2.score(cilindros,mpg)) #obtendo o coeficiente de determinação do modelo\n",
        "\n",
        "plt.scatter(cilindros,mpg)\n",
        "plt.xlabel(\"Cilindros\") #variável explicativa\n",
        "plt.ylabel(\"MPG\") #variável dependente\n",
        "plt.plot(cilindros, modelo2.predict(cilindros),color='red') #plotando a reta do modelo\n",
        "plt.show()"
      ],
      "metadata": {
        "colab": {
          "base_uri": "https://localhost:8080/",
          "height": 692
        },
        "id": "expR4hEUx7Co",
        "outputId": "a35314b3-2099-4a8a-ef2a-295348187bb3"
      },
      "execution_count": 71,
      "outputs": [
        {
          "output_type": "stream",
          "name": "stdout",
          "text": [
            "HP\n",
            "b em X:  39.902729791539784\n",
            "a em X:  [-0.15840255]\n",
            "Coef.Det.:  0.6076020469142062\n"
          ]
        },
        {
          "output_type": "display_data",
          "data": {
            "text/plain": [
              "<Figure size 432x288 with 1 Axes>"
            ],
            "image/png": "[encoded data removed]"
          },
          "metadata": {}
        },
        {
          "output_type": "stream",
          "name": "stdout",
          "text": [
            "Cilindros\n",
            "b em X:  42.738476696279264\n",
            "a em X:  [-3.55011138]\n",
            "Coef. Det.:  0.5958623211620506\n"
          ]
        },
        {
          "output_type": "display_data",
          "data": {
            "text/plain": [
              "<Figure size 432x288 with 1 Axes>"
            ],
            "image/png": "[encoded data removed]"
          },
          "metadata": {}
        }
      ]
    },
    {
      "cell_type": "code",
      "source": [
        "#realizando predições com base em variáveis individuais\n",
        "\n",
        "#horse power\n",
        "#qual a média (mpg) do veículo com 175 hp\n",
        "print(\"HP: \",modelo1.intercept_ + modelo1.coef_ * 175.0, \"MPG - miles per gallon\")\n",
        "\n",
        "#horse power\n",
        "#qual a média (mpg) do veículo com 150 hp\n",
        "print(\"HP: \",modelo1.intercept_ + modelo1.coef_ * 150.0, \"MPG - miles per gallon\")"
      ],
      "metadata": {
        "colab": {
          "base_uri": "https://localhost:8080/"
        },
        "id": "a8GkdoJf53Im",
        "outputId": "5e7a7c1b-9bd8-4af1-a511-e2b4f6a66f3a"
      },
      "execution_count": 72,
      "outputs": [
        {
          "output_type": "stream",
          "name": "stdout",
          "text": [
            "HP:  [12.18228322] MPG - miles per gallon\n",
            "HP:  [16.14234702] MPG - miles per gallon\n"
          ]
        }
      ]
    },
    {
      "cell_type": "code",
      "source": [
        "#avaliando os resíduos dos modelos contruídos\n",
        "#modelo1 --> horse power\n",
        "#modelo2 --> cilindros\n",
        "\n",
        "from sklearn.metrics import mean_squared_error\n",
        "from sklearn.metrics import mean_absolute_error\n",
        "\n",
        "print(\"HP\")\n",
        "predict = modelo1.predict(hp)\n",
        "print(\"Erro médio quadrático (MSE): \", mean_squared_error(mpg,predict,squared=True))\n",
        "print(\"Raiz quadrada do Erro médio quadrático (RMSE): \", mean_squared_error(mpg,predict,squared=False))\n",
        "print(\"Erro médio absoluto (MAE): \", mean_absolute_error(mpg,predict))\n",
        "\n",
        "print()\n",
        "print(\"Cilindros\")\n",
        "predict = modelo2.predict(cilindros)\n",
        "print(\"Erro médio quadrático (MSE): \", mean_squared_error(mpg,predict,squared=True))\n",
        "print(\"Raiz quadrada do Erro médio quadrático (RMSE): \", mean_squared_error(mpg,predict,squared=False))\n",
        "print(\"Erro médio absoluto (MAE): \", mean_absolute_error(mpg,predict))\n"
      ],
      "metadata": {
        "colab": {
          "base_uri": "https://localhost:8080/"
        },
        "id": "0JF-m-x32nol",
        "outputId": "29ba247c-d461-4269-bdc8-49ffa28617a6"
      },
      "execution_count": 73,
      "outputs": [
        {
          "output_type": "stream",
          "name": "stdout",
          "text": [
            "HP\n",
            "Erro médio quadrático (MSE):  24.239849398086896\n",
            "Raiz quadrada do Erro médio quadrático (RMSE):  4.923398155551397\n",
            "Erro médio absoluto (MAE):  3.8706994226106963\n",
            "\n",
            "Cilindros\n",
            "Erro médio quadrático (MSE):  24.96505497566256\n",
            "Raiz quadrada do Erro médio quadrático (RMSE):  4.996504275557318\n",
            "Erro médio absoluto (MAE):  3.763893918562721\n"
          ]
        }
      ]
    },
    {
      "cell_type": "code",
      "source": [
        "#construindo um modelo baseado em múltiplas variáveis explicativas\n",
        "\n",
        "NovaBase = pd.DataFrame(base,columns=base.columns[1:-2])\n",
        "RegMultipla = LinearRegression().fit(NovaBase, mpg)\n",
        "\n",
        "print (\"Todas as variáveis\")\n",
        "print (\"b em X: \", RegMultipla.intercept_) #obtendo o termo independente do modelo\n",
        "print (\"a em X: \", RegMultipla.coef_) #obtendo a inclinação do modelo\n",
        "print (\"Coef. Det.: \",RegMultipla.score(NovaBase,mpg)) #obtendo o coeficiente de determinação do modelo\n",
        "\n",
        "predict = RegMultipla.predict(NovaBase)\n",
        "print(\"\\nAnálise de Resíduos\")\n",
        "print(\"Erro médio quadrático (MSE): \", mean_squared_error(mpg,predict,squared=True))\n",
        "print(\"Raiz quadrada do Erro médio quadrático (RMSE): \", mean_squared_error(mpg,predict,squared=False))\n",
        "print(\"Erro médio absoluto (MAE): \", mean_absolute_error(mpg,predict))"
      ],
      "metadata": {
        "colab": {
          "base_uri": "https://localhost:8080/"
        },
        "id": "BNBV1t6u3qDt",
        "outputId": "8ac75aab-65ed-450a-a45e-1179c23bf6e0"
      },
      "execution_count": 74,
      "outputs": [
        {
          "output_type": "stream",
          "name": "stdout",
          "text": [
            "Todas as variáveis\n",
            "b em X:  -16.47234827928501\n",
            "a em X:  [-0.44899013  0.02295395 -0.01701134 -0.00684634  0.12037213  0.73420704\n",
            "  1.47043414]\n",
            "Coef. Det.:  0.8141470192854814\n",
            "\n",
            "Análise de Resíduos\n",
            "Erro médio quadrático (MSE):  11.480814890286897\n",
            "Raiz quadrada do Erro médio quadrático (RMSE):  3.388335120717385\n",
            "Erro médio absoluto (MAE):  2.5975586530465193\n"
          ]
        }
      ]
    },
    {
      "cell_type": "code",
      "source": [
        "#construindo um modelo de regressão com hold-out\n",
        "from sklearn.model_selection import train_test_split \n",
        "\n",
        "NovaBase = pd.DataFrame(base,columns=base.columns[1:-2])\n",
        "\n",
        "x_treino, x_teste, y_treino, y_teste = train_test_split(NovaBase, mpg, test_size=0.5, random_state=10,shuffle=True)\n",
        "x_validacao,x_teste,y_validacao,y_teste=train_test_split(x_teste,y_teste,test_size=0.5, stratify = y_teste)\n",
        "Modelo = LinearRegression().fit(x_treino, y_treino)\n",
        "\n",
        "print(\"Modelo construído\")\n",
        "print (\"b em X: \", Modelo.intercept_) #obtendo o termo independente do modelo\n",
        "print (\"a em X: \", Modelo.coef_) #obtendo a inclinação do modelo\n",
        "\n",
        "print (\"\\n\\nTodas as variáveis sobre o conjunto de treino\")\n",
        "print (\"Coef. Det. sobre o treino: \",Modelo.score(x_treino,y_treino)) #obtendo o coeficiente de determinação do modelo\n",
        "predict = Modelo.predict(x_treino)\n",
        "print (\"Análise de Resíduos\")\n",
        "print (\"Erro médio quadrático (MSE): \", mean_squared_error(y_treino,predict,squared=True))\n",
        "print (\"Raiz quadrada do Erro médio quadrático (RMSE): \", mean_squared_error(y_treino,predict,squared=False))\n",
        "print (\"Erro médio absoluto (MAE): \", mean_absolute_error(y_treino,predict))\n",
        "\n",
        "\n",
        "print (\"\\n\\nTodas as variáveis sobre o conjunto de teste\")\n",
        "print (\"Coef. Det. sobre o teste: \",Modelo.score(x_teste,y_teste)) #obtendo o coeficiente de determinação do modelo\n",
        "predict = Modelo.predict(x_teste)\n",
        "print (\"Análise de Resíduos\")\n",
        "print (\"Erro médio quadrático (MSE): \", mean_squared_error(y_teste,predict,squared=True))\n",
        "print (\"Raiz quadrada do Erro médio quadrático (RMSE): \", mean_squared_error(y_teste,predict,squared=False))\n",
        "print (\"Erro médio absoluto (MAE): \", mean_absolute_error(y_teste,predict))"
      ],
      "metadata": {
        "colab": {
          "base_uri": "https://localhost:8080/"
        },
        "id": "2awTWTi2-zKT",
        "outputId": "eb266293-d812-4ee5-e657-aa457dcb8597"
      },
      "execution_count": 75,
      "outputs": [
        {
          "output_type": "stream",
          "name": "stdout",
          "text": [
            "Modelo construído\n",
            "b em X:  -13.119733781128268\n",
            "a em X:  [-0.73429224  0.02148316 -0.00511724 -0.00676353  0.27920076  0.67125756\n",
            "  1.1031182 ]\n",
            "\n",
            "\n",
            "Todas as variáveis sobre o conjunto de treino\n",
            "Coef. Det. sobre o treino:  0.8213896514694236\n",
            "Análise de Resíduos\n",
            "Erro médio quadrático (MSE):  11.780295838018638\n",
            "Raiz quadrada do Erro médio quadrático (RMSE):  3.432243557502678\n",
            "Erro médio absoluto (MAE):  2.7071163312993267\n",
            "\n",
            "\n",
            "Todas as variáveis sobre o conjunto de teste\n",
            "Coef. Det. sobre o teste:  0.8063322999350588\n",
            "Análise de Resíduos\n",
            "Erro médio quadrático (MSE):  11.216122260393082\n",
            "Raiz quadrada do Erro médio quadrático (RMSE):  3.3490479632864445\n",
            "Erro médio absoluto (MAE):  2.53332182938954\n"
          ]
        }
      ]
    },
    {
      "cell_type": "markdown",
      "source": [
        "###################################\n",
        "\n",
        "**TREINAMENTO DOS MODELOS DE REGRESSÃO**\n",
        "\n",
        "###################################"
      ],
      "metadata": {
        "id": "UVOu38hzfpf3"
      }
    },
    {
      "cell_type": "code",
      "source": [
        "# KNN - 0.517 seg\n",
        "from sklearn.neighbors import KNeighborsRegressor\n",
        "knn_result = []\n",
        "\n",
        "for i in range(1, 51):\n",
        "  for j in [\"uniform\",\"distance\"]:\n",
        "    KNN = KNeighborsRegressor(n_neighbors=i,weights=j)\n",
        "    KNN.fit(x_treino,y_treino)\n",
        "    knn_coef_det = KNN.score(x_validacao,y_validacao) #obtendo o coeficiente de determinação do modelo\n",
        "    knn_predict = KNN.predict(x_validacao)\n",
        "    knn_mse = mean_squared_error(y_validacao,knn_predict,squared=True)\n",
        "    knn_rmse = mean_squared_error(y_validacao,knn_predict,squared=False)\n",
        "    knn_mae = mean_absolute_error(y_validacao,knn_predict)\n",
        "    knn_result.append({\n",
        "      'knn_coef_det': knn_coef_det,\n",
        "      'knn_mse': knn_mse,\n",
        "      'knn_rmse': knn_rmse,\n",
        "      'knn_mae': knn_mae,\n",
        "      'weight': j,\n",
        "      'kneighbor': i,\n",
        "      'predict': knn_predict})\n",
        "\n",
        "knn_result.sort(key=lambda x: x['knn_rmse']) # orderna pelo rmse\n",
        "knn_best_result = knn_result[0:1] # melhor resultado - menor rmse\n",
        "\n",
        "df_knn = pd.DataFrame.from_dict(knn_best_result)\n",
        "display(df_knn)\n",
        "\n",
        "print (\"Erro médio quadrático (MSE): \", knn_best_result[0]['knn_mse'])\n",
        "print (\"Raiz quadrada do Erro médio quadrático (RMSE): \", knn_best_result[0]['knn_rmse'])\n",
        "print (\"Erro médio absoluto (MAE): \", knn_best_result[0]['knn_mae'])"
      ],
      "metadata": {
        "colab": {
          "base_uri": "https://localhost:8080/",
          "height": 133
        },
        "id": "U1OKYPTRF0Vu",
        "outputId": "879d8a89-d900-4bc4-9244-f05b62ae2d30"
      },
      "execution_count": 76,
      "outputs": [
        {
          "output_type": "display_data",
          "data": {
            "text/plain": [
              "   knn_coef_det    knn_mse  knn_rmse   knn_mae    weight  kneighbor  \\\n",
              "0      0.719073  16.062646  4.007823  2.960465  distance          5   \n",
              "\n",
              "                                             predict  \n",
              "0  [34.88391850202382, 26.48393266675427, 13.9213...  "
            ],
            "text/html": [
              "\n",
              "  <div id=\"df-73b7b789-9f3c-4712-8b6c-61ae8fe25d52\">\n",
              "    <div class=\"colab-df-container\">\n",
              "      <div>\n",
              "<style scoped>\n",
              "    .dataframe tbody tr th:only-of-type {\n",
              "        vertical-align: middle;\n",
              "    }\n",
              "\n",
              "    .dataframe tbody tr th {\n",
              "        vertical-align: top;\n",
              "    }\n",
              "\n",
              "    .dataframe thead th {\n",
              "        text-align: right;\n",
              "    }\n",
              "</style>\n",
              "<table border=\"1\" class=\"dataframe\">\n",
              "  <thead>\n",
              "    <tr style=\"text-align: right;\">\n",
              "      <th></th>\n",
              "      <th>knn_coef_det</th>\n",
              "      <th>knn_mse</th>\n",
              "      <th>knn_rmse</th>\n",
              "      <th>knn_mae</th>\n",
              "      <th>weight</th>\n",
              "      <th>kneighbor</th>\n",
              "      <th>predict</th>\n",
              "    </tr>\n",
              "  </thead>\n",
              "  <tbody>\n",
              "    <tr>\n",
              "      <th>0</th>\n",
              "      <td>0.719073</td>\n",
              "      <td>16.062646</td>\n",
              "      <td>4.007823</td>\n",
              "      <td>2.960465</td>\n",
              "      <td>distance</td>\n",
              "      <td>5</td>\n",
              "      <td>[34.88391850202382, 26.48393266675427, 13.9213...</td>\n",
              "    </tr>\n",
              "  </tbody>\n",
              "</table>\n",
              "</div>\n",
              "      <button class=\"colab-df-convert\" onclick=\"convertToInteractive('df-73b7b789-9f3c-4712-8b6c-61ae8fe25d52')\"\n",
              "              title=\"Convert this dataframe to an interactive table.\"\n",
              "              style=\"display:none;\">\n",
              "        \n",
              "  <svg xmlns=\"http://www.w3.org/2000/svg\" height=\"24px\"viewBox=\"0 0 24 24\"\n",
              "       width=\"24px\">\n",
              "    <path d=\"M0 0h24v24H0V0z\" fill=\"none\"/>\n",
              "    <path d=\"M18.56 5.44l.94 2.06.94-2.06 2.06-.94-2.06-.94-.94-2.06-.94 2.06-2.06.94zm-11 1L8.5 8.5l.94-2.06 2.06-.94-2.06-.94L8.5 2.5l-.94 2.06-2.06.94zm10 10l.94 2.06.94-2.06 2.06-.94-2.06-.94-.94-2.06-.94 2.06-2.06.94z\"/><path d=\"M17.41 7.96l-1.37-1.37c-.4-.4-.92-.59-1.43-.59-.52 0-1.04.2-1.43.59L10.3 9.45l-7.72 7.72c-.78.78-.78 2.05 0 2.83L4 21.41c.39.39.9.59 1.41.59.51 0 1.02-.2 1.41-.59l7.78-7.78 2.81-2.81c.8-.78.8-2.07 0-2.86zM5.41 20L4 18.59l7.72-7.72 1.47 1.35L5.41 20z\"/>\n",
              "  </svg>\n",
              "      </button>\n",
              "      \n",
              "  <style>\n",
              "    .colab-df-container {\n",
              "      display:flex;\n",
              "      flex-wrap:wrap;\n",
              "      gap: 12px;\n",
              "    }\n",
              "\n",
              "    .colab-df-convert {\n",
              "      background-color: #E8F0FE;\n",
              "      border: none;\n",
              "      border-radius: 50%;\n",
              "      cursor: pointer;\n",
              "      display: none;\n",
              "      fill: #1967D2;\n",
              "      height: 32px;\n",
              "      padding: 0 0 0 0;\n",
              "      width: 32px;\n",
              "    }\n",
              "\n",
              "    .colab-df-convert:hover {\n",
              "      background-color: #E2EBFA;\n",
              "      box-shadow: 0px 1px 2px rgba(60, 64, 67, 0.3), 0px 1px 3px 1px rgba(60, 64, 67, 0.15);\n",
              "      fill: #174EA6;\n",
              "    }\n",
              "\n",
              "    [theme=dark] .colab-df-convert {\n",
              "      background-color: #3B4455;\n",
              "      fill: #D2E3FC;\n",
              "    }\n",
              "\n",
              "    [theme=dark] .colab-df-convert:hover {\n",
              "      background-color: #434B5C;\n",
              "      box-shadow: 0px 1px 3px 1px rgba(0, 0, 0, 0.15);\n",
              "      filter: drop-shadow(0px 1px 2px rgba(0, 0, 0, 0.3));\n",
              "      fill: #FFFFFF;\n",
              "    }\n",
              "  </style>\n",
              "\n",
              "      <script>\n",
              "        const buttonEl =\n",
              "          document.querySelector('#df-73b7b789-9f3c-4712-8b6c-61ae8fe25d52 button.colab-df-convert');\n",
              "        buttonEl.style.display =\n",
              "          google.colab.kernel.accessAllowed ? 'block' : 'none';\n",
              "\n",
              "        async function convertToInteractive(key) {\n",
              "          const element = document.querySelector('#df-73b7b789-9f3c-4712-8b6c-61ae8fe25d52');\n",
              "          const dataTable =\n",
              "            await google.colab.kernel.invokeFunction('convertToInteractive',\n",
              "                                                     [key], {});\n",
              "          if (!dataTable) return;\n",
              "\n",
              "          const docLinkHtml = 'Like what you see? Visit the ' +\n",
              "            '<a target=\"_blank\" href=https://colab.research.google.com/notebooks/data_table.ipynb>data table notebook</a>'\n",
              "            + ' to learn more about interactive tables.';\n",
              "          element.innerHTML = '';\n",
              "          dataTable['output_type'] = 'display_data';\n",
              "          await google.colab.output.renderOutput(dataTable, element);\n",
              "          const docLink = document.createElement('div');\n",
              "          docLink.innerHTML = docLinkHtml;\n",
              "          element.appendChild(docLink);\n",
              "        }\n",
              "      </script>\n",
              "    </div>\n",
              "  </div>\n",
              "  "
            ]
          },
          "metadata": {}
        },
        {
          "output_type": "stream",
          "name": "stdout",
          "text": [
            "Erro médio quadrático (MSE):  16.0626458632798\n",
            "Raiz quadrada do Erro médio quadrático (RMSE):  4.007823082831851\n",
            "Erro médio absoluto (MAE):  2.960465443758255\n"
          ]
        }
      ]
    },
    {
      "cell_type": "code",
      "source": [
        "plt.scatter(y_validacao, knn_best_result[0]['predict'])\n",
        "plt.title('KNN')\n",
        "plt.xlabel(\"Valor Real\") #variável explicativa\n",
        "plt.ylabel(\"Valor Estimado\") #variável dependente\n",
        "plt.show()"
      ],
      "metadata": {
        "colab": {
          "base_uri": "https://localhost:8080/",
          "height": 301
        },
        "id": "Ay_Fo674sPqK",
        "outputId": "c0b2de32-36eb-424b-823c-b147e396c913"
      },
      "execution_count": 77,
      "outputs": [
        {
          "output_type": "display_data",
          "data": {
            "text/plain": [
              "<Figure size 432x288 with 1 Axes>"
            ],
            "image/png": "[encoded data removed]"
          },
          "metadata": {}
        }
      ]
    },
    {
      "cell_type": "code",
      "source": [
        "#RANDOM FOREST - 2 min 50 seg\n",
        "from sklearn.ensemble import RandomForestRegressor\n",
        "rf_result = []\n",
        "\n",
        "for max_depth in range(5, 11):\n",
        "  for criterio in [\"squared_error\", \"absolute_error\", \"friedman_mse\", \"poisson\"]:\n",
        "    for min_samples_split in range (3, 8):\n",
        "      for estimado in range(50, 201, 50):\n",
        "        RFR = RandomForestRegressor(max_depth=max_depth, n_estimators=estimado, min_samples_split=min_samples_split, criterion=criterio)\n",
        "        RFR.fit(x_treino,y_treino)\n",
        "        rf_coef_det = RFR.score(x_validacao,y_validacao) #obtendo o coeficiente de determinação do modelo\n",
        "        rf_predict = RFR.predict(x_validacao)\n",
        "        rf_mse = mean_squared_error(y_validacao,rf_predict,squared=True)\n",
        "        rf_rmse = mean_squared_error(y_validacao,rf_predict,squared=False)\n",
        "        rf_mae = mean_absolute_error(y_validacao,rf_predict)\n",
        "        rf_result.append({\n",
        "        'rf_coef_det': rf_coef_det,\n",
        "        'rf_mse': rf_mse,\n",
        "        'rf_rmse': rf_rmse,\n",
        "        'rf_mae': rf_mae,\n",
        "        'max_depth': max_depth,\n",
        "        'criterio': criterio,\n",
        "        'min_samples_split': min_samples_split,\n",
        "        'estimado': estimado,\n",
        "        'predict': rf_predict})\n",
        "\n",
        "rf_result.sort(key=lambda x: x['rf_rmse']) # orderna pelo rmse\n",
        "rf_best_result = rf_result[0:1] # melhor resultado - menor rmse\n",
        "\n",
        "df_rf = pd.DataFrame.from_dict(rf_best_result)\n",
        "display(df_rf)\n",
        "\n",
        "print (\"Erro médio quadrático (MSE): \", rf_best_result[0]['rf_mse'])\n",
        "print (\"Raiz quadrada do Erro médio quadrático (RMSE): \", rf_best_result[0]['rf_rmse'])\n",
        "print (\"Erro médio absoluto (MAE): \", rf_best_result[0]['rf_mae'])"
      ],
      "metadata": {
        "colab": {
          "base_uri": "https://localhost:8080/",
          "height": 133
        },
        "id": "b8yNt87NcdPq",
        "outputId": "05c1161c-8351-424a-af4b-a00bcf21f76d"
      },
      "execution_count": 78,
      "outputs": [
        {
          "output_type": "display_data",
          "data": {
            "text/plain": [
              "   rf_coef_det    rf_mse   rf_rmse    rf_mae  max_depth      criterio  \\\n",
              "0     0.877535  7.002238  2.646174  1.903785          7  friedman_mse   \n",
              "\n",
              "   min_samples_split  estimado  \\\n",
              "0                  3        50   \n",
              "\n",
              "                                             predict  \n",
              "0  [32.584944444444446, 33.46883928571428, 13.439...  "
            ],
            "text/html": [
              "\n",
              "  <div id=\"df-cf36782d-80d6-4399-8e1e-a57c7c1238af\">\n",
              "    <div class=\"colab-df-container\">\n",
              "      <div>\n",
              "<style scoped>\n",
              "    .dataframe tbody tr th:only-of-type {\n",
              "        vertical-align: middle;\n",
              "    }\n",
              "\n",
              "    .dataframe tbody tr th {\n",
              "        vertical-align: top;\n",
              "    }\n",
              "\n",
              "    .dataframe thead th {\n",
              "        text-align: right;\n",
              "    }\n",
              "</style>\n",
              "<table border=\"1\" class=\"dataframe\">\n",
              "  <thead>\n",
              "    <tr style=\"text-align: right;\">\n",
              "      <th></th>\n",
              "      <th>rf_coef_det</th>\n",
              "      <th>rf_mse</th>\n",
              "      <th>rf_rmse</th>\n",
              "      <th>rf_mae</th>\n",
              "      <th>max_depth</th>\n",
              "      <th>criterio</th>\n",
              "      <th>min_samples_split</th>\n",
              "      <th>estimado</th>\n",
              "      <th>predict</th>\n",
              "    </tr>\n",
              "  </thead>\n",
              "  <tbody>\n",
              "    <tr>\n",
              "      <th>0</th>\n",
              "      <td>0.877535</td>\n",
              "      <td>7.002238</td>\n",
              "      <td>2.646174</td>\n",
              "      <td>1.903785</td>\n",
              "      <td>7</td>\n",
              "      <td>friedman_mse</td>\n",
              "      <td>3</td>\n",
              "      <td>50</td>\n",
              "      <td>[32.584944444444446, 33.46883928571428, 13.439...</td>\n",
              "    </tr>\n",
              "  </tbody>\n",
              "</table>\n",
              "</div>\n",
              "      <button class=\"colab-df-convert\" onclick=\"convertToInteractive('df-cf36782d-80d6-4399-8e1e-a57c7c1238af')\"\n",
              "              title=\"Convert this dataframe to an interactive table.\"\n",
              "              style=\"display:none;\">\n",
              "        \n",
              "  <svg xmlns=\"http://www.w3.org/2000/svg\" height=\"24px\"viewBox=\"0 0 24 24\"\n",
              "       width=\"24px\">\n",
              "    <path d=\"M0 0h24v24H0V0z\" fill=\"none\"/>\n",
              "    <path d=\"M18.56 5.44l.94 2.06.94-2.06 2.06-.94-2.06-.94-.94-2.06-.94 2.06-2.06.94zm-11 1L8.5 8.5l.94-2.06 2.06-.94-2.06-.94L8.5 2.5l-.94 2.06-2.06.94zm10 10l.94 2.06.94-2.06 2.06-.94-2.06-.94-.94-2.06-.94 2.06-2.06.94z\"/><path d=\"M17.41 7.96l-1.37-1.37c-.4-.4-.92-.59-1.43-.59-.52 0-1.04.2-1.43.59L10.3 9.45l-7.72 7.72c-.78.78-.78 2.05 0 2.83L4 21.41c.39.39.9.59 1.41.59.51 0 1.02-.2 1.41-.59l7.78-7.78 2.81-2.81c.8-.78.8-2.07 0-2.86zM5.41 20L4 18.59l7.72-7.72 1.47 1.35L5.41 20z\"/>\n",
              "  </svg>\n",
              "      </button>\n",
              "      \n",
              "  <style>\n",
              "    .colab-df-container {\n",
              "      display:flex;\n",
              "      flex-wrap:wrap;\n",
              "      gap: 12px;\n",
              "    }\n",
              "\n",
              "    .colab-df-convert {\n",
              "      background-color: #E8F0FE;\n",
              "      border: none;\n",
              "      border-radius: 50%;\n",
              "      cursor: pointer;\n",
              "      display: none;\n",
              "      fill: #1967D2;\n",
              "      height: 32px;\n",
              "      padding: 0 0 0 0;\n",
              "      width: 32px;\n",
              "    }\n",
              "\n",
              "    .colab-df-convert:hover {\n",
              "      background-color: #E2EBFA;\n",
              "      box-shadow: 0px 1px 2px rgba(60, 64, 67, 0.3), 0px 1px 3px 1px rgba(60, 64, 67, 0.15);\n",
              "      fill: #174EA6;\n",
              "    }\n",
              "\n",
              "    [theme=dark] .colab-df-convert {\n",
              "      background-color: #3B4455;\n",
              "      fill: #D2E3FC;\n",
              "    }\n",
              "\n",
              "    [theme=dark] .colab-df-convert:hover {\n",
              "      background-color: #434B5C;\n",
              "      box-shadow: 0px 1px 3px 1px rgba(0, 0, 0, 0.15);\n",
              "      filter: drop-shadow(0px 1px 2px rgba(0, 0, 0, 0.3));\n",
              "      fill: #FFFFFF;\n",
              "    }\n",
              "  </style>\n",
              "\n",
              "      <script>\n",
              "        const buttonEl =\n",
              "          document.querySelector('#df-cf36782d-80d6-4399-8e1e-a57c7c1238af button.colab-df-convert');\n",
              "        buttonEl.style.display =\n",
              "          google.colab.kernel.accessAllowed ? 'block' : 'none';\n",
              "\n",
              "        async function convertToInteractive(key) {\n",
              "          const element = document.querySelector('#df-cf36782d-80d6-4399-8e1e-a57c7c1238af');\n",
              "          const dataTable =\n",
              "            await google.colab.kernel.invokeFunction('convertToInteractive',\n",
              "                                                     [key], {});\n",
              "          if (!dataTable) return;\n",
              "\n",
              "          const docLinkHtml = 'Like what you see? Visit the ' +\n",
              "            '<a target=\"_blank\" href=https://colab.research.google.com/notebooks/data_table.ipynb>data table notebook</a>'\n",
              "            + ' to learn more about interactive tables.';\n",
              "          element.innerHTML = '';\n",
              "          dataTable['output_type'] = 'display_data';\n",
              "          await google.colab.output.renderOutput(dataTable, element);\n",
              "          const docLink = document.createElement('div');\n",
              "          docLink.innerHTML = docLinkHtml;\n",
              "          element.appendChild(docLink);\n",
              "        }\n",
              "      </script>\n",
              "    </div>\n",
              "  </div>\n",
              "  "
            ]
          },
          "metadata": {}
        },
        {
          "output_type": "stream",
          "name": "stdout",
          "text": [
            "Erro médio quadrático (MSE):  7.002237844677912\n",
            "Raiz quadrada do Erro médio quadrático (RMSE):  2.646174190161697\n",
            "Erro médio absoluto (MAE):  1.903784768884605\n"
          ]
        }
      ]
    },
    {
      "cell_type": "code",
      "source": [
        "plt.scatter(y_validacao, rf_best_result[0]['predict'])\n",
        "plt.title('Random Forest')\n",
        "plt.xlabel(\"Valor Real\") #variável explicativa\n",
        "plt.ylabel(\"Valor Estimado\") #variável dependente\n",
        "plt.show()"
      ],
      "metadata": {
        "colab": {
          "base_uri": "https://localhost:8080/",
          "height": 301
        },
        "id": "H7XFJDyDsLK1",
        "outputId": "2cc85c35-1d1c-46a2-913e-d584786ba1aa"
      },
      "execution_count": 79,
      "outputs": [
        {
          "output_type": "display_data",
          "data": {
            "text/plain": [
              "<Figure size 432x288 with 1 Axes>"
            ],
            "image/png": "[encoded data removed]"
          },
          "metadata": {}
        }
      ]
    },
    {
      "cell_type": "code",
      "source": [
        "# SVR - 57 seg\n",
        "from sklearn.svm import SVR\n",
        "svr_result = []\n",
        "\n",
        "for sm in range (1, 11):\n",
        "  for kernel in ['linear', 'poly', 'rbf','sigmoid']:\n",
        "    C = sm/10\n",
        "    svr = SVR(kernel=kernel, C=C)\n",
        "    svr.fit(x_treino, y_treino)\n",
        "    svr_coef_det = svr.score(x_validacao, y_validacao)\n",
        "    svr_predict = svr.predict(x_validacao)\n",
        "    svr_mse = mean_squared_error(y_validacao, svr_predict, squared=True)\n",
        "    svr_rmse = mean_squared_error(y_validacao, svr_predict, squared=False)\n",
        "    svr_mae = mean_absolute_error(y_validacao, svr_predict)\n",
        "    svr_result.append({\n",
        "            'svr_coef_det': svr_coef_det,\n",
        "            'svr_mse': svr_mse,\n",
        "            'svr_rmse': svr_rmse,\n",
        "            'svr_mae': svr_mae,\n",
        "            'C': C,\n",
        "            'kernel': kernel,\n",
        "            'predict': svr_predict\n",
        "        })\n",
        "\n",
        "svr_result.sort(key=lambda x: x['svr_rmse']) # orderna pelo rmse\n",
        "svr_best_result = svr_result[0:1] # melhor resultado - menor rmse\n",
        "\n",
        "df_svr = pd.DataFrame.from_dict(svr_best_result)\n",
        "display(df_svr)\n",
        "\n",
        "print (\"Erro médio quadrático (MSE): \", svr_best_result[0]['svr_mse'])\n",
        "print (\"Raiz quadrada do Erro médio quadrático (RMSE): \", svr_best_result[0]['svr_rmse'])\n",
        "print (\"Erro médio absoluto (MAE): \", svr_best_result[0]['svr_mae'])"
      ],
      "metadata": {
        "colab": {
          "base_uri": "https://localhost:8080/",
          "height": 133
        },
        "id": "IQYQL9Tkn06H",
        "outputId": "bc322ac5-1524-4150-cee7-6bf098e4f44c"
      },
      "execution_count": 80,
      "outputs": [
        {
          "output_type": "display_data",
          "data": {
            "text/plain": [
              "   svr_coef_det    svr_mse  svr_rmse  svr_mae    C  kernel  \\\n",
              "0      0.793306  11.818194   3.43776   2.5594  0.4  linear   \n",
              "\n",
              "                                             predict  \n",
              "0  [28.655293316057282, 30.904180722020897, 13.96...  "
            ],
            "text/html": [
              "\n",
              "  <div id=\"df-cd8a9597-8ab7-4a34-8b43-b3d9889893ee\">\n",
              "    <div class=\"colab-df-container\">\n",
              "      <div>\n",
              "<style scoped>\n",
              "    .dataframe tbody tr th:only-of-type {\n",
              "        vertical-align: middle;\n",
              "    }\n",
              "\n",
              "    .dataframe tbody tr th {\n",
              "        vertical-align: top;\n",
              "    }\n",
              "\n",
              "    .dataframe thead th {\n",
              "        text-align: right;\n",
              "    }\n",
              "</style>\n",
              "<table border=\"1\" class=\"dataframe\">\n",
              "  <thead>\n",
              "    <tr style=\"text-align: right;\">\n",
              "      <th></th>\n",
              "      <th>svr_coef_det</th>\n",
              "      <th>svr_mse</th>\n",
              "      <th>svr_rmse</th>\n",
              "      <th>svr_mae</th>\n",
              "      <th>C</th>\n",
              "      <th>kernel</th>\n",
              "      <th>predict</th>\n",
              "    </tr>\n",
              "  </thead>\n",
              "  <tbody>\n",
              "    <tr>\n",
              "      <th>0</th>\n",
              "      <td>0.793306</td>\n",
              "      <td>11.818194</td>\n",
              "      <td>3.43776</td>\n",
              "      <td>2.5594</td>\n",
              "      <td>0.4</td>\n",
              "      <td>linear</td>\n",
              "      <td>[28.655293316057282, 30.904180722020897, 13.96...</td>\n",
              "    </tr>\n",
              "  </tbody>\n",
              "</table>\n",
              "</div>\n",
              "      <button class=\"colab-df-convert\" onclick=\"convertToInteractive('df-cd8a9597-8ab7-4a34-8b43-b3d9889893ee')\"\n",
              "              title=\"Convert this dataframe to an interactive table.\"\n",
              "              style=\"display:none;\">\n",
              "        \n",
              "  <svg xmlns=\"http://www.w3.org/2000/svg\" height=\"24px\"viewBox=\"0 0 24 24\"\n",
              "       width=\"24px\">\n",
              "    <path d=\"M0 0h24v24H0V0z\" fill=\"none\"/>\n",
              "    <path d=\"M18.56 5.44l.94 2.06.94-2.06 2.06-.94-2.06-.94-.94-2.06-.94 2.06-2.06.94zm-11 1L8.5 8.5l.94-2.06 2.06-.94-2.06-.94L8.5 2.5l-.94 2.06-2.06.94zm10 10l.94 2.06.94-2.06 2.06-.94-2.06-.94-.94-2.06-.94 2.06-2.06.94z\"/><path d=\"M17.41 7.96l-1.37-1.37c-.4-.4-.92-.59-1.43-.59-.52 0-1.04.2-1.43.59L10.3 9.45l-7.72 7.72c-.78.78-.78 2.05 0 2.83L4 21.41c.39.39.9.59 1.41.59.51 0 1.02-.2 1.41-.59l7.78-7.78 2.81-2.81c.8-.78.8-2.07 0-2.86zM5.41 20L4 18.59l7.72-7.72 1.47 1.35L5.41 20z\"/>\n",
              "  </svg>\n",
              "      </button>\n",
              "      \n",
              "  <style>\n",
              "    .colab-df-container {\n",
              "      display:flex;\n",
              "      flex-wrap:wrap;\n",
              "      gap: 12px;\n",
              "    }\n",
              "\n",
              "    .colab-df-convert {\n",
              "      background-color: #E8F0FE;\n",
              "      border: none;\n",
              "      border-radius: 50%;\n",
              "      cursor: pointer;\n",
              "      display: none;\n",
              "      fill: #1967D2;\n",
              "      height: 32px;\n",
              "      padding: 0 0 0 0;\n",
              "      width: 32px;\n",
              "    }\n",
              "\n",
              "    .colab-df-convert:hover {\n",
              "      background-color: #E2EBFA;\n",
              "      box-shadow: 0px 1px 2px rgba(60, 64, 67, 0.3), 0px 1px 3px 1px rgba(60, 64, 67, 0.15);\n",
              "      fill: #174EA6;\n",
              "    }\n",
              "\n",
              "    [theme=dark] .colab-df-convert {\n",
              "      background-color: #3B4455;\n",
              "      fill: #D2E3FC;\n",
              "    }\n",
              "\n",
              "    [theme=dark] .colab-df-convert:hover {\n",
              "      background-color: #434B5C;\n",
              "      box-shadow: 0px 1px 3px 1px rgba(0, 0, 0, 0.15);\n",
              "      filter: drop-shadow(0px 1px 2px rgba(0, 0, 0, 0.3));\n",
              "      fill: #FFFFFF;\n",
              "    }\n",
              "  </style>\n",
              "\n",
              "      <script>\n",
              "        const buttonEl =\n",
              "          document.querySelector('#df-cd8a9597-8ab7-4a34-8b43-b3d9889893ee button.colab-df-convert');\n",
              "        buttonEl.style.display =\n",
              "          google.colab.kernel.accessAllowed ? 'block' : 'none';\n",
              "\n",
              "        async function convertToInteractive(key) {\n",
              "          const element = document.querySelector('#df-cd8a9597-8ab7-4a34-8b43-b3d9889893ee');\n",
              "          const dataTable =\n",
              "            await google.colab.kernel.invokeFunction('convertToInteractive',\n",
              "                                                     [key], {});\n",
              "          if (!dataTable) return;\n",
              "\n",
              "          const docLinkHtml = 'Like what you see? Visit the ' +\n",
              "            '<a target=\"_blank\" href=https://colab.research.google.com/notebooks/data_table.ipynb>data table notebook</a>'\n",
              "            + ' to learn more about interactive tables.';\n",
              "          element.innerHTML = '';\n",
              "          dataTable['output_type'] = 'display_data';\n",
              "          await google.colab.output.renderOutput(dataTable, element);\n",
              "          const docLink = document.createElement('div');\n",
              "          docLink.innerHTML = docLinkHtml;\n",
              "          element.appendChild(docLink);\n",
              "        }\n",
              "      </script>\n",
              "    </div>\n",
              "  </div>\n",
              "  "
            ]
          },
          "metadata": {}
        },
        {
          "output_type": "stream",
          "name": "stdout",
          "text": [
            "Erro médio quadrático (MSE):  11.818194153882628\n",
            "Raiz quadrada do Erro médio quadrático (RMSE):  3.437760048910137\n",
            "Erro médio absoluto (MAE):  2.5594001578522865\n"
          ]
        }
      ]
    },
    {
      "cell_type": "code",
      "source": [
        "plt.scatter(y_validacao, svr_best_result[0]['predict'])\n",
        "plt.title('SVR')\n",
        "plt.xlabel(\"Valor Real\") #variável explicativa\n",
        "plt.ylabel(\"Valor Estimado\") #variável dependente\n",
        "plt.show()"
      ],
      "metadata": {
        "colab": {
          "base_uri": "https://localhost:8080/",
          "height": 301
        },
        "id": "00f6k4cKqTUo",
        "outputId": "e4f417ae-3db2-4f0a-8aa7-d9421019fef6"
      },
      "execution_count": 81,
      "outputs": [
        {
          "output_type": "display_data",
          "data": {
            "text/plain": [
              "<Figure size 432x288 with 1 Axes>"
            ],
            "image/png": "[encoded data removed]"
          },
          "metadata": {}
        }
      ]
    },
    {
      "cell_type": "markdown",
      "source": [
        "###############################################\n",
        "\n",
        "**AVALIAÇÃO DE DESEMPENHOS SOBRE O CONJUNTO DE TESTE**\n",
        "\n",
        "###############################################"
      ],
      "metadata": {
        "id": "q1yE-01ai3rY"
      }
    },
    {
      "cell_type": "code",
      "source": [
        "def knn(idx, neighbors, weight, x, y):\n",
        "    KNN = KNeighborsRegressor(n_neighbors=neighbors,weights=weight)\n",
        "    KNN.fit(x_treino,y_treino)\n",
        "    print (f\"=================== KNN - {idx} =================== \")\n",
        "    print (\"PARÂMETROS: K=\", neighbors, \"weight\", weight)\n",
        "    print (\"Coef. Det. sobre o treino: \",KNN.score(x,y)) #obtendo o coeficiente de determinação do modelo\n",
        " \n",
        "    print (\"\\nTodas as variáveis sobre o conjunto de teste\")\n",
        "    print (\"Coef. Det. sobre o teste: \",KNN.score(x,y)) #obtendo o coeficiente de determinação do modelo\n",
        "    predict = KNN.predict(x)\n",
        "\n",
        "    if idx == 10:\n",
        "      plt.scatter(y, predict)\n",
        "      plt.title('KNN')\n",
        "      plt.xlabel(\"Valor Real\") #variável explicativa\n",
        "      plt.ylabel(\"Valor Estimado\") #variável dependente\n",
        "      plt.show()\n",
        " \n",
        "    return {\n",
        "              \"mse\": mean_squared_error(y,predict,squared=True),\n",
        "              \"rmse\": mean_squared_error(y,predict,squared=False),\n",
        "              \"mae\": mean_absolute_error(y,predict),\n",
        "              \"predict\": predict\n",
        "          }\n",
        " \n",
        " \n",
        "def regressao_linear(idx, x, y):\n",
        "    RegMultipla = LinearRegression().fit(x_treino, y_treino)\n",
        "    print(f\"=================== REGRESSAO LINEAR - {idx} =================== \")\n",
        "    print (\"Todas as variáveis\")\n",
        "    print (\"b em X: \", RegMultipla.intercept_) #obtendo o termo independente do modelo\n",
        "    print (\"a em X: \", RegMultipla.coef_) #obtendo a inclinação do modelo\n",
        "    print (\"Coef. Det.: \",RegMultipla.score(x,y)) #obtendo o coeficiente de determinação do modelo\n",
        " \n",
        "    predict = RegMultipla.predict(x)\n",
        "\n",
        "    if idx == 10:\n",
        "      plt.scatter(y, predict)\n",
        "      plt.title('RL')\n",
        "      plt.xlabel(\"Valor Real\") #variável explicativa\n",
        "      plt.ylabel(\"Valor Estimado\") #variável dependente\n",
        "      plt.show()\n",
        "\n",
        "    return {\n",
        "              \"mse\": mean_squared_error(y,predict,squared=True),\n",
        "              \"rmse\": mean_squared_error(y,predict,squared=False),\n",
        "              \"mae\": mean_absolute_error(y,predict),\n",
        "              \"predict\": predict\n",
        "          }\n",
        " \n",
        "def random_forest(idx, max_depth, n_estimators, min_samples_split, criterion, x, y):\n",
        "    RFR = RandomForestRegressor(max_depth=max_depth,n_estimators=n_estimators,min_samples_split=min_samples_split,criterion=criterio)\n",
        "    RFR.fit(x_treino,y_treino)\n",
        "    print (f\"=================== RANDOM FOREST - {idx} =================== \")\n",
        "    print (\"PARÂMETROS: max_depth\", max_depth, \"n_estimators\", n_estimators, \"min_samples_split\", min_samples_split, \"criterion\", criterion)\n",
        "    print (\"Coef. Det. sobre o treino: \",RFR.score(x,y)) #obtendo o coeficiente de determinação do modelo\n",
        " \n",
        "    print (\"\\nTodas as variáveis sobre o conjunto de teste\")\n",
        "    print (\"Coef. Det. sobre o teste: \",RFR.score(x,y)) #obtendo o coeficiente de determinação do modelo\n",
        "    predict = RFR.predict(x)\n",
        " \n",
        "    if idx == 10:\n",
        "      plt.scatter(y, predict)\n",
        "      plt.title('RF')\n",
        "      plt.xlabel(\"Valor Real\") #variável explicativa\n",
        "      plt.ylabel(\"Valor Estimado\") #variável dependente\n",
        "      plt.show()\n",
        "\n",
        "    return {\n",
        "              \"mse\": mean_squared_error(y,predict,squared=True),\n",
        "              \"rmse\": mean_squared_error(y,predict,squared=False),\n",
        "              \"mae\": mean_absolute_error(y,predict),\n",
        "              \"predict\": predict\n",
        "            }\n",
        " \n",
        "def svr(idx, kernel, c, x, y):\n",
        "    svr = SVR(kernel=kernel, C=c)\n",
        "    svr.fit(x_treino,y_treino)\n",
        "    print (f\"=================== SVR - {idx} =================== \")\n",
        "    print (\"PARÂMETROS: kernel\", kernel, \"C\", C)\n",
        "    print (\"Coef. Det. sobre o treino: \",svr.score(x,y)) #obtendo o coeficiente de determinação do modelo\n",
        " \n",
        "    print (\"\\nTodas as variáveis sobre o conjunto de teste\")\n",
        "    print (\"Coef. Det. sobre o teste: \",svr.score(x,y)) #obtendo o coeficiente de determinação do modelo\n",
        "    predict = svr.predict(x)\n",
        " \n",
        "    if idx == 10:\n",
        "      plt.scatter(y, predict)\n",
        "      plt.title('SVR')\n",
        "      plt.xlabel(\"Valor Real\") #variável explicativa\n",
        "      plt.ylabel(\"Valor Estimado\") #variável dependente\n",
        "      plt.show()\n",
        "\n",
        "    return { \"mse\": mean_squared_error(y,predict,squared=True),\n",
        "            \"rmse\": mean_squared_error(y,predict,squared=False),\n",
        "            \"mae\": mean_absolute_error(y,predict),\n",
        "            \"predict\": predict\n",
        "            }\n",
        " \n",
        " \n",
        "resultado_KNN = []\n",
        "resultado_RF = []\n",
        "resultado_RL = []\n",
        "resultado_SVR = []\n",
        "baseRegressao = pd.read_csv(path, sep = ';')\n",
        "mpg = baseRegressao.iloc[:,0].values # Milhas por galão\n",
        "newbase = pd.DataFrame(baseRegressao,columns=base.columns[1:-2])\n",
        "for i in range(1, 11):\n",
        "  x_treino, x_teste, y_treino, y_teste = train_test_split(newbase, mpg, test_size=0.5, stratify=mpg,shuffle=True)\n",
        "  x_validacao, x_teste, y_validacao, y_teste = train_test_split(x_teste, y_teste, test_size=0.5, stratify=y_teste,shuffle=True)\n",
        "  #KNN\n",
        "  resultado_KNN.append(knn(i, neighbors=knn_best_result[0]['kneighbor'], weight=knn_best_result[0]['weight'], x=x_teste, y=y_teste))\n",
        "  print(\"\\n\")\n",
        "  #RL\n",
        "  resultado_RL.append(regressao_linear(i, x=x_teste, y=y_teste))\n",
        "  print(\"\\n\")\n",
        "  #RF\n",
        "  resultado_RF.append(random_forest(i, max_depth=rf_best_result[0]['max_depth'], n_estimators=rf_best_result[0]['estimado'], min_samples_split=rf_best_result[0]['min_samples_split'], criterion=rf_best_result[0]['criterio'], x=x_teste, y=y_teste))\n",
        "  print(\"\\n\")\n",
        "  #SVR\n",
        "  resultado_SVR.append(svr(i, kernel=svr_best_result[0]['kernel'], c=svr_best_result[0]['C'], x=x_teste, y=y_teste))\n",
        "  print(\"\\n\\n\\n\")\n",
        " \n",
        " \n",
        "print('KNN:', min([k['rmse'] for k in resultado_KNN]))\n",
        "print('RF: ',min([r['rmse'] for r in resultado_RF]))\n",
        "print('RL: ', min([r['rmse'] for r in resultado_RL]))\n",
        "print('SVM: ', min([s['rmse'] for s in resultado_SVR]))"
      ],
      "metadata": {
        "id": "IZXHrxNiipEV",
        "colab": {
          "base_uri": "https://localhost:8080/",
          "height": 1000
        },
        "outputId": "22555adf-8258-497d-a82f-df89d5a076e2"
      },
      "execution_count": 160,
      "outputs": [
        {
          "output_type": "stream",
          "name": "stdout",
          "text": [
            "=================== KNN - 1 =================== \n",
            "PARÂMETROS: K= 5 weight distance\n",
            "Coef. Det. sobre o treino:  0.7319704638799646\n",
            "\n",
            "Todas as variáveis sobre o conjunto de teste\n",
            "Coef. Det. sobre o teste:  0.7319704638799646\n",
            "\n",
            "\n",
            "=================== REGRESSAO LINEAR - 1 =================== \n",
            "Todas as variáveis\n",
            "b em X:  -13.56980583321112\n",
            "a em X:  [-0.10729959  0.01968403 -0.04858895 -0.0059341   0.04908781  0.69365356\n",
            "  1.94052783]\n",
            "Coef. Det.:  0.8207754660377525\n",
            "\n",
            "\n",
            "=================== RANDOM FOREST - 1 =================== \n",
            "PARÂMETROS: max_depth 7 n_estimators 50 min_samples_split 3 criterion friedman_mse\n",
            "Coef. Det. sobre o treino:  0.8547483762169126\n",
            "\n",
            "Todas as variáveis sobre o conjunto de teste\n",
            "Coef. Det. sobre o teste:  0.8547483762169126\n",
            "\n",
            "\n",
            "=================== SVR - 1 =================== \n",
            "PARÂMETROS: kernel linear C 1.0\n",
            "Coef. Det. sobre o treino:  0.8029777009664971\n",
            "\n",
            "Todas as variáveis sobre o conjunto de teste\n",
            "Coef. Det. sobre o teste:  0.8029777009664971\n",
            "\n",
            "\n",
            "\n",
            "\n",
            "=================== KNN - 2 =================== \n",
            "PARÂMETROS: K= 5 weight distance\n",
            "Coef. Det. sobre o treino:  0.6801543280370042\n",
            "\n",
            "Todas as variáveis sobre o conjunto de teste\n",
            "Coef. Det. sobre o teste:  0.6801543280370042\n",
            "\n",
            "\n",
            "=================== REGRESSAO LINEAR - 2 =================== \n",
            "Todas as variáveis\n",
            "b em X:  -14.367633211834384\n",
            "a em X:  [-4.91233163e-01  2.27881790e-02  1.47684143e-03 -7.43286578e-03\n",
            "  2.12483631e-01  6.82703878e-01  1.74010389e+00]\n",
            "Coef. Det.:  0.7978241062580783\n",
            "\n",
            "\n",
            "=================== RANDOM FOREST - 2 =================== \n",
            "PARÂMETROS: max_depth 7 n_estimators 50 min_samples_split 3 criterion friedman_mse\n",
            "Coef. Det. sobre o treino:  0.833696377388706\n",
            "\n",
            "Todas as variáveis sobre o conjunto de teste\n",
            "Coef. Det. sobre o teste:  0.833696377388706\n",
            "\n",
            "\n",
            "=================== SVR - 2 =================== \n",
            "PARÂMETROS: kernel linear C 1.0\n",
            "Coef. Det. sobre o treino:  0.7651869257266208\n",
            "\n",
            "Todas as variáveis sobre o conjunto de teste\n",
            "Coef. Det. sobre o teste:  0.7651869257266208\n",
            "\n",
            "\n",
            "\n",
            "\n",
            "=================== KNN - 3 =================== \n",
            "PARÂMETROS: K= 5 weight distance\n",
            "Coef. Det. sobre o treino:  0.6928653323425602\n",
            "\n",
            "Todas as variáveis sobre o conjunto de teste\n",
            "Coef. Det. sobre o teste:  0.6928653323425602\n",
            "\n",
            "\n",
            "=================== REGRESSAO LINEAR - 3 =================== \n",
            "Todas as variáveis\n",
            "b em X:  -26.39569558368832\n",
            "a em X:  [-0.23812788  0.00348797  0.01064597 -0.00617493  0.23246187  0.81983065\n",
            "  1.14472678]\n",
            "Coef. Det.:  0.760948182614742\n",
            "\n",
            "\n",
            "=================== RANDOM FOREST - 3 =================== \n",
            "PARÂMETROS: max_depth 7 n_estimators 50 min_samples_split 3 criterion friedman_mse\n",
            "Coef. Det. sobre o treino:  0.7767880068989454\n",
            "\n",
            "Todas as variáveis sobre o conjunto de teste\n",
            "Coef. Det. sobre o teste:  0.7767880068989454\n",
            "\n",
            "\n",
            "=================== SVR - 3 =================== \n",
            "PARÂMETROS: kernel linear C 1.0\n",
            "Coef. Det. sobre o treino:  0.721364217309201\n",
            "\n",
            "Todas as variáveis sobre o conjunto de teste\n",
            "Coef. Det. sobre o teste:  0.721364217309201\n",
            "\n",
            "\n",
            "\n",
            "\n",
            "=================== KNN - 4 =================== \n",
            "PARÂMETROS: K= 5 weight distance\n",
            "Coef. Det. sobre o treino:  0.6912922108546888\n",
            "\n",
            "Todas as variáveis sobre o conjunto de teste\n",
            "Coef. Det. sobre o teste:  0.6912922108546888\n",
            "\n",
            "\n",
            "=================== REGRESSAO LINEAR - 4 =================== \n",
            "Todas as variáveis\n",
            "b em X:  -13.081668606529128\n",
            "a em X:  [-0.71071888  0.03289921 -0.01300223 -0.00789982  0.14550572  0.71678396\n",
            "  1.45219907]\n",
            "Coef. Det.:  0.853022539565973\n",
            "\n",
            "\n",
            "=================== RANDOM FOREST - 4 =================== \n",
            "PARÂMETROS: max_depth 7 n_estimators 50 min_samples_split 3 criterion friedman_mse\n",
            "Coef. Det. sobre o treino:  0.8879865425871136\n",
            "\n",
            "Todas as variáveis sobre o conjunto de teste\n",
            "Coef. Det. sobre o teste:  0.8879865425871136\n",
            "\n",
            "\n",
            "=================== SVR - 4 =================== \n",
            "PARÂMETROS: kernel linear C 1.0\n",
            "Coef. Det. sobre o treino:  0.8376626302497319\n",
            "\n",
            "Todas as variáveis sobre o conjunto de teste\n",
            "Coef. Det. sobre o teste:  0.8376626302497319\n",
            "\n",
            "\n",
            "\n",
            "\n",
            "=================== KNN - 5 =================== \n",
            "PARÂMETROS: K= 5 weight distance\n",
            "Coef. Det. sobre o treino:  0.7794800006499566\n",
            "\n",
            "Todas as variáveis sobre o conjunto de teste\n",
            "Coef. Det. sobre o teste:  0.7794800006499566\n",
            "\n",
            "\n",
            "=================== REGRESSAO LINEAR - 5 =================== \n",
            "Todas as variáveis\n",
            "b em X:  -18.490489692718192\n",
            "a em X:  [-0.6604688   0.02382167 -0.03312323 -0.00611127  0.04906315  0.78482347\n",
            "  1.39398019]\n",
            "Coef. Det.:  0.8142306010948124\n",
            "\n",
            "\n",
            "=================== RANDOM FOREST - 5 =================== \n",
            "PARÂMETROS: max_depth 7 n_estimators 50 min_samples_split 3 criterion friedman_mse\n",
            "Coef. Det. sobre o treino:  0.8897085998778959\n",
            "\n",
            "Todas as variáveis sobre o conjunto de teste\n",
            "Coef. Det. sobre o teste:  0.8897085998778959\n",
            "\n",
            "\n",
            "=================== SVR - 5 =================== \n",
            "PARÂMETROS: kernel linear C 1.0\n",
            "Coef. Det. sobre o treino:  0.8268943749818822\n",
            "\n",
            "Todas as variáveis sobre o conjunto de teste\n",
            "Coef. Det. sobre o teste:  0.8268943749818822\n",
            "\n",
            "\n",
            "\n",
            "\n",
            "=================== KNN - 6 =================== \n",
            "PARÂMETROS: K= 5 weight distance\n",
            "Coef. Det. sobre o treino:  0.6941762377512588\n",
            "\n",
            "Todas as variáveis sobre o conjunto de teste\n",
            "Coef. Det. sobre o teste:  0.6941762377512588\n",
            "\n",
            "\n",
            "=================== REGRESSAO LINEAR - 6 =================== \n",
            "Todas as variáveis\n",
            "b em X:  -32.162966128734965\n",
            "a em X:  [ 0.14566904  0.01244306  0.0013919  -0.00702972  0.26525216  0.8825363\n",
            "  1.19438863]\n",
            "Coef. Det.:  0.7984913851232873\n",
            "\n",
            "\n",
            "=================== RANDOM FOREST - 6 =================== \n",
            "PARÂMETROS: max_depth 7 n_estimators 50 min_samples_split 3 criterion friedman_mse\n",
            "Coef. Det. sobre o treino:  0.8577570591259871\n",
            "\n",
            "Todas as variáveis sobre o conjunto de teste\n",
            "Coef. Det. sobre o teste:  0.8577570591259871\n",
            "\n",
            "\n",
            "=================== SVR - 6 =================== \n",
            "PARÂMETROS: kernel linear C 1.0\n",
            "Coef. Det. sobre o treino:  0.8028519387069639\n",
            "\n",
            "Todas as variáveis sobre o conjunto de teste\n",
            "Coef. Det. sobre o teste:  0.8028519387069639\n",
            "\n",
            "\n",
            "\n",
            "\n",
            "=================== KNN - 7 =================== \n",
            "PARÂMETROS: K= 5 weight distance\n",
            "Coef. Det. sobre o treino:  0.7233016842363449\n",
            "\n",
            "Todas as variáveis sobre o conjunto de teste\n",
            "Coef. Det. sobre o teste:  0.7233016842363449\n",
            "\n",
            "\n",
            "=================== REGRESSAO LINEAR - 7 =================== \n",
            "Todas as variáveis\n",
            "b em X:  -17.632220606724147\n",
            "a em X:  [-0.30053552  0.02549449 -0.00818909 -0.00714451  0.24637607  0.69072621\n",
            "  2.13913189]\n",
            "Coef. Det.:  0.7755275215841124\n",
            "\n",
            "\n",
            "=================== RANDOM FOREST - 7 =================== \n",
            "PARÂMETROS: max_depth 7 n_estimators 50 min_samples_split 3 criterion friedman_mse\n",
            "Coef. Det. sobre o treino:  0.8415432043364528\n",
            "\n",
            "Todas as variáveis sobre o conjunto de teste\n",
            "Coef. Det. sobre o teste:  0.8415432043364528\n",
            "\n",
            "\n",
            "=================== SVR - 7 =================== \n",
            "PARÂMETROS: kernel linear C 1.0\n",
            "Coef. Det. sobre o treino:  0.7597813245818328\n",
            "\n",
            "Todas as variáveis sobre o conjunto de teste\n",
            "Coef. Det. sobre o teste:  0.7597813245818328\n",
            "\n",
            "\n",
            "\n",
            "\n",
            "=================== KNN - 8 =================== \n",
            "PARÂMETROS: K= 5 weight distance\n",
            "Coef. Det. sobre o treino:  0.6291884214512315\n",
            "\n",
            "Todas as variáveis sobre o conjunto de teste\n",
            "Coef. Det. sobre o teste:  0.6291884214512315\n",
            "\n",
            "\n",
            "=================== REGRESSAO LINEAR - 8 =================== \n",
            "Todas as variáveis\n",
            "b em X:  -18.448329987875024\n",
            "a em X:  [-0.63944866  0.02998438 -0.03654399 -0.00666067  0.02079804  0.79389563\n",
            "  1.55080685]\n",
            "Coef. Det.:  0.7758791375570271\n",
            "\n",
            "\n",
            "=================== RANDOM FOREST - 8 =================== \n",
            "PARÂMETROS: max_depth 7 n_estimators 50 min_samples_split 3 criterion friedman_mse\n",
            "Coef. Det. sobre o treino:  0.810367905210888\n",
            "\n",
            "Todas as variáveis sobre o conjunto de teste\n",
            "Coef. Det. sobre o teste:  0.810367905210888\n",
            "\n",
            "\n",
            "=================== SVR - 8 =================== \n",
            "PARÂMETROS: kernel linear C 1.0\n",
            "Coef. Det. sobre o treino:  0.7668343030691099\n",
            "\n",
            "Todas as variáveis sobre o conjunto de teste\n",
            "Coef. Det. sobre o teste:  0.7668343030691099\n",
            "\n",
            "\n",
            "\n",
            "\n",
            "=================== KNN - 9 =================== \n",
            "PARÂMETROS: K= 5 weight distance\n",
            "Coef. Det. sobre o treino:  0.7204339693228496\n",
            "\n",
            "Todas as variáveis sobre o conjunto de teste\n",
            "Coef. Det. sobre o teste:  0.7204339693228496\n",
            "\n",
            "\n",
            "=================== REGRESSAO LINEAR - 9 =================== \n",
            "Todas as variáveis\n",
            "b em X:  -13.18996872768427\n",
            "a em X:  [-0.38723247  0.02744409 -0.01523985 -0.00759881  0.20217919  0.68739417\n",
            "  1.3269634 ]\n",
            "Coef. Det.:  0.8290536699333506\n",
            "\n",
            "\n",
            "=================== RANDOM FOREST - 9 =================== \n",
            "PARÂMETROS: max_depth 7 n_estimators 50 min_samples_split 3 criterion friedman_mse\n",
            "Coef. Det. sobre o treino:  0.8681884506750543\n",
            "\n",
            "Todas as variáveis sobre o conjunto de teste\n",
            "Coef. Det. sobre o teste:  0.8681884506750543\n",
            "\n",
            "\n",
            "=================== SVR - 9 =================== \n",
            "PARÂMETROS: kernel linear C 1.0\n",
            "Coef. Det. sobre o treino:  0.8256385483107691\n",
            "\n",
            "Todas as variáveis sobre o conjunto de teste\n",
            "Coef. Det. sobre o teste:  0.8256385483107691\n",
            "\n",
            "\n",
            "\n",
            "\n",
            "=================== KNN - 10 =================== \n",
            "PARÂMETROS: K= 5 weight distance\n",
            "Coef. Det. sobre o treino:  0.747154715281216\n",
            "\n",
            "Todas as variáveis sobre o conjunto de teste\n",
            "Coef. Det. sobre o teste:  0.747154715281216\n"
          ]
        },
        {
          "output_type": "display_data",
          "data": {
            "text/plain": [
              "<Figure size 432x288 with 1 Axes>"
            ],
            "image/png": "[encoded data removed]"
          },
          "metadata": {}
        },
        {
          "output_type": "stream",
          "name": "stdout",
          "text": [
            "\n",
            "\n",
            "=================== REGRESSAO LINEAR - 10 =================== \n",
            "Todas as variáveis\n",
            "b em X:  -16.85059927787398\n",
            "a em X:  [-0.41764334  0.02336159 -0.0290001  -0.00629739  0.07760755  0.738291\n",
            "  1.55706264]\n",
            "Coef. Det.:  0.8196707294178351\n"
          ]
        },
        {
          "output_type": "display_data",
          "data": {
            "text/plain": [
              "<Figure size 432x288 with 1 Axes>"
            ],
            "image/png": "[encoded data removed]"
          },
          "metadata": {}
        },
        {
          "output_type": "stream",
          "name": "stdout",
          "text": [
            "\n",
            "\n",
            "=================== RANDOM FOREST - 10 =================== \n",
            "PARÂMETROS: max_depth 7 n_estimators 50 min_samples_split 3 criterion friedman_mse\n",
            "Coef. Det. sobre o treino:  0.9010732683662185\n",
            "\n",
            "Todas as variáveis sobre o conjunto de teste\n",
            "Coef. Det. sobre o teste:  0.9010732683662185\n"
          ]
        },
        {
          "output_type": "display_data",
          "data": {
            "text/plain": [
              "<Figure size 432x288 with 1 Axes>"
            ],
            "image/png": "[encoded data removed]"
          },
          "metadata": {}
        },
        {
          "output_type": "stream",
          "name": "stdout",
          "text": [
            "\n",
            "\n",
            "=================== SVR - 10 =================== \n",
            "PARÂMETROS: kernel linear C 1.0\n",
            "Coef. Det. sobre o treino:  0.7946798066914044\n",
            "\n",
            "Todas as variáveis sobre o conjunto de teste\n",
            "Coef. Det. sobre o teste:  0.7946798066914044\n"
          ]
        },
        {
          "output_type": "display_data",
          "data": {
            "text/plain": [
              "<Figure size 432x288 with 1 Axes>"
            ],
            "image/png": "[encoded data removed]"
          },
          "metadata": {}
        },
        {
          "output_type": "stream",
          "name": "stdout",
          "text": [
            "\n",
            "\n",
            "\n",
            "\n",
            "KNN: 3.814967998030972\n",
            "RF:  2.459354100156466\n",
            "RL:  3.15612764031352\n",
            "SVM:  3.230702201520109\n"
          ]
        }
      ]
    },
    {
      "cell_type": "markdown",
      "source": [
        "#####################################################\n",
        "\n",
        "**COMPARAÇÃO DOS DESEMPENHOS APRESENTADOS PELOS MÉTODOS**\n",
        "\n",
        "#####################################################"
      ],
      "metadata": {
        "id": "4Y-aMdww7Ao0"
      }
    },
    {
      "cell_type": "code",
      "source": [
        "rmse_knn = [k['rmse'] for k in resultado_KNN]\n",
        "rmse_rf = [k['rmse'] for k in resultado_RF]\n",
        "rmse_rl = [k['rmse'] for k in resultado_RL]\n",
        "rmse_svr = [k['rmse'] for k in resultado_SVR]\n",
        "\n",
        "from scipy import stats\n",
        "print(stats.kruskal(rmse_knn, rmse_rf, rmse_rl))\n",
        "\n",
        "from scipy.stats import mannwhitneyu\n",
        "p = mannwhitneyu(rmse_knn, rmse_rf, method=\"exact\",alternative=\"two-sided\")\n",
        "print(\"KNN vs RF: \",p)\n",
        "\n",
        "p = mannwhitneyu(rmse_knn, rmse_rl, method=\"exact\",alternative=\"two-sided\")\n",
        "print(\"KNN vs RL: \",p)\n",
        "\n",
        "p = mannwhitneyu(rmse_knn, rmse_svr, method=\"exact\",alternative=\"two-sided\")\n",
        "print(\"KNN vs SVR: \",p)\n",
        "\n",
        "p = mannwhitneyu(rmse_rf, rmse_rl, method=\"exact\",alternative=\"two-sided\")\n",
        "print(\"RF vs RL: \",p)\n",
        "\n",
        "p = mannwhitneyu(rmse_rf, rmse_svr, method=\"exact\",alternative=\"two-sided\")\n",
        "print(\"RF vs SVR: \",p)\n",
        "\n",
        "p = mannwhitneyu(rmse_rl, rmse_svr, method=\"exact\",alternative=\"two-sided\")\n",
        "print(\"RL vs SVR: \",p)"
      ],
      "metadata": {
        "colab": {
          "base_uri": "https://localhost:8080/"
        },
        "id": "l0qrwBGCIkli",
        "outputId": "16f3424a-ab97-433a-8eb3-72cbda423ce7"
      },
      "execution_count": 158,
      "outputs": [
        {
          "output_type": "stream",
          "name": "stdout",
          "text": [
            "KruskalResult(statistic=24.033548387096772, pvalue=6.042007742534363e-06)\n",
            "KNN vs RF:  MannwhitneyuResult(statistic=100.0, pvalue=1.082508822446903e-05)\n",
            "KNN vs RL:  MannwhitneyuResult(statistic=96.0, pvalue=0.00012990105869362836)\n",
            "KNN vs SVR:  MannwhitneyuResult(statistic=92.0, pvalue=0.0007252809110394249)\n",
            "RF vs RL:  MannwhitneyuResult(statistic=3.0, pvalue=7.577561757128321e-05)\n",
            "RF vs SVR:  MannwhitneyuResult(statistic=3.0, pvalue=7.577561757128321e-05)\n",
            "RL vs SVR:  MannwhitneyuResult(statistic=40.0, pvalue=0.48125094719521977)\n"
          ]
        }
      ]
    }
  ]
}